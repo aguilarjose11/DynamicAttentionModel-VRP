{
 "cells": [
  {
   "cell_type": "code",
   "execution_count": 4,
   "id": "2d0776c2",
   "metadata": {
    "scrolled": true
   },
   "outputs": [
    {
     "name": "stderr",
     "output_type": "stream",
     "text": [
      "2023-01-19 14:56:30.143863: I tensorflow/core/platform/cpu_feature_guard.cc:193] This TensorFlow binary is optimized with oneAPI Deep Neural Network Library (oneDNN) to use the following CPU instructions in performance-critical operations:  SSE4.1 SSE4.2 AVX AVX2 FMA\n",
      "To enable them in other operations, rebuild TensorFlow with the appropriate compiler flags.\n"
     ]
    }
   ],
   "source": [
    "import tensorflow as tf\n",
    "from tensorflow import keras\n",
    "from attention_dynamic_model import AttentionDynamicModel\n",
    "from utils import create_data_on_disk\n",
    "import pandas as pd\n",
    "import seaborn as sns\n",
    "import numpy as np\n",
    "import matplotlib.pyplot as plt"
   ]
  },
  {
   "cell_type": "markdown",
   "id": "30ee2325",
   "metadata": {},
   "source": [
    "# Solution Inspector Notebook\n",
    "\n",
    "This notebook helps inspect the solutions produced by AM-D models."
   ]
  },
  {
   "cell_type": "code",
   "execution_count": 5,
   "id": "e9837e30",
   "metadata": {},
   "outputs": [
    {
     "name": "stderr",
     "output_type": "stream",
     "text": [
      "2023-01-19 14:56:33.987655: I tensorflow/stream_executor/cuda/cuda_gpu_executor.cc:980] successful NUMA node read from SysFS had negative value (-1), but there must be at least one NUMA node, so returning NUMA node zero\n",
      "2023-01-19 14:56:34.014025: I tensorflow/stream_executor/cuda/cuda_gpu_executor.cc:980] successful NUMA node read from SysFS had negative value (-1), but there must be at least one NUMA node, so returning NUMA node zero\n",
      "2023-01-19 14:56:34.014205: I tensorflow/stream_executor/cuda/cuda_gpu_executor.cc:980] successful NUMA node read from SysFS had negative value (-1), but there must be at least one NUMA node, so returning NUMA node zero\n",
      "2023-01-19 14:56:34.014629: I tensorflow/core/platform/cpu_feature_guard.cc:193] This TensorFlow binary is optimized with oneAPI Deep Neural Network Library (oneDNN) to use the following CPU instructions in performance-critical operations:  SSE4.1 SSE4.2 AVX AVX2 FMA\n",
      "To enable them in other operations, rebuild TensorFlow with the appropriate compiler flags.\n",
      "2023-01-19 14:56:34.015156: I tensorflow/stream_executor/cuda/cuda_gpu_executor.cc:980] successful NUMA node read from SysFS had negative value (-1), but there must be at least one NUMA node, so returning NUMA node zero\n",
      "2023-01-19 14:56:34.015320: I tensorflow/stream_executor/cuda/cuda_gpu_executor.cc:980] successful NUMA node read from SysFS had negative value (-1), but there must be at least one NUMA node, so returning NUMA node zero\n",
      "2023-01-19 14:56:34.015460: I tensorflow/stream_executor/cuda/cuda_gpu_executor.cc:980] successful NUMA node read from SysFS had negative value (-1), but there must be at least one NUMA node, so returning NUMA node zero\n",
      "2023-01-19 14:56:34.477125: I tensorflow/stream_executor/cuda/cuda_gpu_executor.cc:980] successful NUMA node read from SysFS had negative value (-1), but there must be at least one NUMA node, so returning NUMA node zero\n",
      "2023-01-19 14:56:34.477320: I tensorflow/stream_executor/cuda/cuda_gpu_executor.cc:980] successful NUMA node read from SysFS had negative value (-1), but there must be at least one NUMA node, so returning NUMA node zero\n",
      "2023-01-19 14:56:34.477460: I tensorflow/stream_executor/cuda/cuda_gpu_executor.cc:980] successful NUMA node read from SysFS had negative value (-1), but there must be at least one NUMA node, so returning NUMA node zero\n",
      "2023-01-19 14:56:34.477561: I tensorflow/core/common_runtime/gpu/gpu_device.cc:1616] Created device /job:localhost/replica:0/task:0/device:GPU:0 with 4693 MB memory:  -> device: 0, name: NVIDIA GeForce GTX 1060, pci bus id: 0000:01:00.0, compute capability: 6.1\n"
     ]
    },
    {
     "data": {
      "text/plain": [
       "<tensorflow.python.checkpoint.checkpoint.CheckpointLoadStatus at 0x7fe04c4eca30>"
      ]
     },
     "execution_count": 5,
     "metadata": {},
     "output_type": "execute_result"
    }
   ],
   "source": [
    "# AM-D Initial Model Parameters. Make sure they match the original hyperparameters\n",
    "embedding_dim   = 128\n",
    "n_encode_layers = 3\n",
    "n_heads         = 8\n",
    "tanh_clipping   = 10\n",
    "\n",
    "# Create model, duh!\n",
    "model_amd = AttentionDynamicModel(\n",
    "    embedding_dim  =embedding_dim,\n",
    "    n_encode_layers=n_encode_layers,\n",
    "    n_heads        =n_heads,\n",
    "    tanh_clipping  =tanh_clipping\n",
    ")\n",
    "\n",
    "# Import weights.\n",
    "model_amd.load_weights('TopologicalAttentionModel/_experiment_Jan-19-2023_14-45-58_nodes_10.ckp/AM-D_Jan-19-2023_14-45-58_nodes_10_epochs_50_batches_512.ckp')\n",
    "#model_amd.load_weights('checkpoints/AM-D_example')"
   ]
  },
  {
   "cell_type": "code",
   "execution_count": 6,
   "id": "976e3252",
   "metadata": {},
   "outputs": [],
   "source": [
    "# Generate data.\n",
    "data = create_data_on_disk(10, 100, False, None, True, 42)"
   ]
  },
  {
   "cell_type": "code",
   "execution_count": 7,
   "id": "90a6eaee",
   "metadata": {},
   "outputs": [
    {
     "data": {
      "text/plain": [
       "<TensorSliceDataset element_spec=(TensorSpec(shape=(2,), dtype=tf.float32, name=None), TensorSpec(shape=(10, 2), dtype=tf.float32, name=None), TensorSpec(shape=(10,), dtype=tf.float32, name=None))>"
      ]
     },
     "execution_count": 7,
     "metadata": {},
     "output_type": "execute_result"
    }
   ],
   "source": [
    "# This is only to see that data generated uses tf's dataset API\n",
    "data"
   ]
  },
  {
   "cell_type": "markdown",
   "id": "41945042",
   "metadata": {},
   "source": [
    "## Solve Problems\n",
    "\n",
    "This section of the notebook shows the importation and use of an AM-D model to solve generated problems."
   ]
  },
  {
   "cell_type": "code",
   "execution_count": 9,
   "id": "e9a0fc1f",
   "metadata": {},
   "outputs": [],
   "source": [
    "# Obtain data for testing\n",
    "test_data = next(data.batch(5).as_numpy_iterator())\n",
    "\n",
    "### Generate solutions using AM-D ###\n",
    "model_amd.set_decode_type('greedy')\n",
    "res = model_amd(test_data, return_pi=True)"
   ]
  },
  {
   "cell_type": "code",
   "execution_count": 10,
   "id": "b7f955cc",
   "metadata": {},
   "outputs": [
    {
     "data": {
      "text/plain": [
       "(<tf.Tensor: shape=(5,), dtype=float32, numpy=\n",
       " array([4.979494 , 4.403771 , 4.4824023, 3.5372608, 3.6442447],\n",
       "       dtype=float32)>,\n",
       " <tf.Tensor: shape=(5,), dtype=float32, numpy=\n",
       " array([-1.6185776 , -1.4369956 , -0.19168025, -1.1225768 , -0.5076527 ],\n",
       "       dtype=float32)>,\n",
       " <tf.Tensor: shape=(5, 15), dtype=float32, numpy=\n",
       " array([[ 8.,  2.,  3.,  5.,  0.,  0.,  0.,  4., 10.,  7.,  9.,  0.,  6.,\n",
       "          1.,  0.],\n",
       "        [ 5.,  9.,  3.,  7.,  0.,  0.,  0.,  2.,  8.,  1.,  6.,  0.,  4.,\n",
       "         10.,  0.],\n",
       "        [ 5., 10.,  1.,  3.,  9.,  0.,  0.,  6.,  2.,  8.,  7.,  0.,  4.,\n",
       "          0.,  0.],\n",
       "        [ 1.,  9.,  6.,  7.,  3.,  0.,  0., 10.,  2.,  4.,  8.,  0.,  5.,\n",
       "          0.,  0.],\n",
       "        [ 1.,  5., 10.,  7.,  9.,  4.,  0.,  3.,  8.,  6.,  2.,  0.,  0.,\n",
       "          0.,  0.]], dtype=float32)>)"
      ]
     },
     "execution_count": 10,
     "metadata": {},
     "output_type": "execute_result"
    }
   ],
   "source": [
    "res"
   ]
  },
  {
   "cell_type": "code",
   "execution_count": 11,
   "id": "3ecda45b",
   "metadata": {},
   "outputs": [],
   "source": [
    "# Which sample to vizualize?\n",
    "testing_sample = 3\n",
    "\n",
    "# Collect data for vizualization the original problem\n",
    "start_node = pd.DataFrame([test_data[0][testing_sample]])\n",
    "space_nodes = pd.DataFrame(test_data[1][testing_sample])\n",
    "nodes = pd.concat([start_node, space_nodes]).reset_index(drop=True).rename(columns={0: 'x', 1: 'y'})"
   ]
  },
  {
   "cell_type": "code",
   "execution_count": 12,
   "id": "8fc191bb",
   "metadata": {},
   "outputs": [],
   "source": [
    "# Collect cost (reward is -cost)\n",
    "cost = res[0][testing_sample]\n",
    "\n",
    "# Note: res[1] is the log-likelihood used for REINFORCE, so we can ignore here.\n",
    "\n",
    "# Collect chosen trajectories\n",
    "selections = pd.DataFrame(res[2][testing_sample], columns=['node #']).astype(int)"
   ]
  },
  {
   "cell_type": "code",
   "execution_count": 13,
   "id": "1dde0052",
   "metadata": {
    "scrolled": true
   },
   "outputs": [
    {
     "data": {
      "text/html": [
       "<div>\n",
       "<style scoped>\n",
       "    .dataframe tbody tr th:only-of-type {\n",
       "        vertical-align: middle;\n",
       "    }\n",
       "\n",
       "    .dataframe tbody tr th {\n",
       "        vertical-align: top;\n",
       "    }\n",
       "\n",
       "    .dataframe thead th {\n",
       "        text-align: right;\n",
       "    }\n",
       "</style>\n",
       "<table border=\"1\" class=\"dataframe\">\n",
       "  <thead>\n",
       "    <tr style=\"text-align: right;\">\n",
       "      <th></th>\n",
       "      <th>node #</th>\n",
       "    </tr>\n",
       "  </thead>\n",
       "  <tbody>\n",
       "    <tr>\n",
       "      <th>0</th>\n",
       "      <td>1</td>\n",
       "    </tr>\n",
       "    <tr>\n",
       "      <th>1</th>\n",
       "      <td>9</td>\n",
       "    </tr>\n",
       "    <tr>\n",
       "      <th>2</th>\n",
       "      <td>6</td>\n",
       "    </tr>\n",
       "    <tr>\n",
       "      <th>3</th>\n",
       "      <td>7</td>\n",
       "    </tr>\n",
       "    <tr>\n",
       "      <th>4</th>\n",
       "      <td>3</td>\n",
       "    </tr>\n",
       "    <tr>\n",
       "      <th>5</th>\n",
       "      <td>0</td>\n",
       "    </tr>\n",
       "    <tr>\n",
       "      <th>6</th>\n",
       "      <td>0</td>\n",
       "    </tr>\n",
       "    <tr>\n",
       "      <th>7</th>\n",
       "      <td>10</td>\n",
       "    </tr>\n",
       "    <tr>\n",
       "      <th>8</th>\n",
       "      <td>2</td>\n",
       "    </tr>\n",
       "    <tr>\n",
       "      <th>9</th>\n",
       "      <td>4</td>\n",
       "    </tr>\n",
       "    <tr>\n",
       "      <th>10</th>\n",
       "      <td>8</td>\n",
       "    </tr>\n",
       "    <tr>\n",
       "      <th>11</th>\n",
       "      <td>0</td>\n",
       "    </tr>\n",
       "    <tr>\n",
       "      <th>12</th>\n",
       "      <td>5</td>\n",
       "    </tr>\n",
       "    <tr>\n",
       "      <th>13</th>\n",
       "      <td>0</td>\n",
       "    </tr>\n",
       "    <tr>\n",
       "      <th>14</th>\n",
       "      <td>0</td>\n",
       "    </tr>\n",
       "  </tbody>\n",
       "</table>\n",
       "</div>"
      ],
      "text/plain": [
       "    node #\n",
       "0        1\n",
       "1        9\n",
       "2        6\n",
       "3        7\n",
       "4        3\n",
       "5        0\n",
       "6        0\n",
       "7       10\n",
       "8        2\n",
       "9        4\n",
       "10       8\n",
       "11       0\n",
       "12       5\n",
       "13       0\n",
       "14       0"
      ]
     },
     "execution_count": 13,
     "metadata": {},
     "output_type": "execute_result"
    }
   ],
   "source": [
    "selections"
   ]
  },
  {
   "cell_type": "code",
   "execution_count": 14,
   "id": "47e29c0f",
   "metadata": {},
   "outputs": [],
   "source": [
    "# Collect nodes' (x, y) locations\n",
    "path = nodes.iloc[selections['node #']]\n",
    "#path = path.rename(columns={0: 'x', 1: 'y'})"
   ]
  },
  {
   "cell_type": "code",
   "execution_count": 15,
   "id": "a32168a5",
   "metadata": {
    "scrolled": true
   },
   "outputs": [
    {
     "data": {
      "text/html": [
       "<div>\n",
       "<style scoped>\n",
       "    .dataframe tbody tr th:only-of-type {\n",
       "        vertical-align: middle;\n",
       "    }\n",
       "\n",
       "    .dataframe tbody tr th {\n",
       "        vertical-align: top;\n",
       "    }\n",
       "\n",
       "    .dataframe thead th {\n",
       "        text-align: right;\n",
       "    }\n",
       "</style>\n",
       "<table border=\"1\" class=\"dataframe\">\n",
       "  <thead>\n",
       "    <tr style=\"text-align: right;\">\n",
       "      <th></th>\n",
       "      <th>x</th>\n",
       "      <th>y</th>\n",
       "    </tr>\n",
       "  </thead>\n",
       "  <tbody>\n",
       "    <tr>\n",
       "      <th>1</th>\n",
       "      <td>0.633278</td>\n",
       "      <td>0.039127</td>\n",
       "    </tr>\n",
       "    <tr>\n",
       "      <th>9</th>\n",
       "      <td>0.710454</td>\n",
       "      <td>0.128864</td>\n",
       "    </tr>\n",
       "    <tr>\n",
       "      <th>6</th>\n",
       "      <td>0.743769</td>\n",
       "      <td>0.418242</td>\n",
       "    </tr>\n",
       "    <tr>\n",
       "      <th>7</th>\n",
       "      <td>0.695765</td>\n",
       "      <td>0.375767</td>\n",
       "    </tr>\n",
       "    <tr>\n",
       "      <th>3</th>\n",
       "      <td>0.558372</td>\n",
       "      <td>0.256420</td>\n",
       "    </tr>\n",
       "    <tr>\n",
       "      <th>0</th>\n",
       "      <td>0.186020</td>\n",
       "      <td>0.114308</td>\n",
       "    </tr>\n",
       "    <tr>\n",
       "      <th>0</th>\n",
       "      <td>0.186020</td>\n",
       "      <td>0.114308</td>\n",
       "    </tr>\n",
       "    <tr>\n",
       "      <th>10</th>\n",
       "      <td>0.050575</td>\n",
       "      <td>0.570597</td>\n",
       "    </tr>\n",
       "    <tr>\n",
       "      <th>2</th>\n",
       "      <td>0.075522</td>\n",
       "      <td>0.949766</td>\n",
       "    </tr>\n",
       "    <tr>\n",
       "      <th>4</th>\n",
       "      <td>0.015310</td>\n",
       "      <td>0.417871</td>\n",
       "    </tr>\n",
       "    <tr>\n",
       "      <th>8</th>\n",
       "      <td>0.079072</td>\n",
       "      <td>0.261432</td>\n",
       "    </tr>\n",
       "    <tr>\n",
       "      <th>0</th>\n",
       "      <td>0.186020</td>\n",
       "      <td>0.114308</td>\n",
       "    </tr>\n",
       "    <tr>\n",
       "      <th>5</th>\n",
       "      <td>0.322106</td>\n",
       "      <td>0.068197</td>\n",
       "    </tr>\n",
       "    <tr>\n",
       "      <th>0</th>\n",
       "      <td>0.186020</td>\n",
       "      <td>0.114308</td>\n",
       "    </tr>\n",
       "    <tr>\n",
       "      <th>0</th>\n",
       "      <td>0.186020</td>\n",
       "      <td>0.114308</td>\n",
       "    </tr>\n",
       "  </tbody>\n",
       "</table>\n",
       "</div>"
      ],
      "text/plain": [
       "           x         y\n",
       "1   0.633278  0.039127\n",
       "9   0.710454  0.128864\n",
       "6   0.743769  0.418242\n",
       "7   0.695765  0.375767\n",
       "3   0.558372  0.256420\n",
       "0   0.186020  0.114308\n",
       "0   0.186020  0.114308\n",
       "10  0.050575  0.570597\n",
       "2   0.075522  0.949766\n",
       "4   0.015310  0.417871\n",
       "8   0.079072  0.261432\n",
       "0   0.186020  0.114308\n",
       "5   0.322106  0.068197\n",
       "0   0.186020  0.114308\n",
       "0   0.186020  0.114308"
      ]
     },
     "execution_count": 15,
     "metadata": {},
     "output_type": "execute_result"
    }
   ],
   "source": [
    "path"
   ]
  },
  {
   "cell_type": "code",
   "execution_count": 16,
   "id": "5c62ef29",
   "metadata": {
    "scrolled": true
   },
   "outputs": [
    {
     "name": "stderr",
     "output_type": "stream",
     "text": [
      "/tmp/ipykernel_45681/53454811.py:15: FutureWarning: The frame.append method is deprecated and will be removed from pandas in a future version. Use pandas.concat instead.\n",
      "  graph = graph.assign(type='node').append(depot, ignore_index=True)\n"
     ]
    },
    {
     "data": {
      "text/html": [
       "<div>\n",
       "<style scoped>\n",
       "    .dataframe tbody tr th:only-of-type {\n",
       "        vertical-align: middle;\n",
       "    }\n",
       "\n",
       "    .dataframe tbody tr th {\n",
       "        vertical-align: top;\n",
       "    }\n",
       "\n",
       "    .dataframe thead th {\n",
       "        text-align: right;\n",
       "    }\n",
       "</style>\n",
       "<table border=\"1\" class=\"dataframe\">\n",
       "  <thead>\n",
       "    <tr style=\"text-align: right;\">\n",
       "      <th></th>\n",
       "      <th>x</th>\n",
       "      <th>y</th>\n",
       "      <th>type</th>\n",
       "    </tr>\n",
       "  </thead>\n",
       "  <tbody>\n",
       "    <tr>\n",
       "      <th>0</th>\n",
       "      <td>0.633278</td>\n",
       "      <td>0.039127</td>\n",
       "      <td>node</td>\n",
       "    </tr>\n",
       "    <tr>\n",
       "      <th>1</th>\n",
       "      <td>0.075522</td>\n",
       "      <td>0.949766</td>\n",
       "      <td>node</td>\n",
       "    </tr>\n",
       "    <tr>\n",
       "      <th>2</th>\n",
       "      <td>0.558372</td>\n",
       "      <td>0.256420</td>\n",
       "      <td>node</td>\n",
       "    </tr>\n",
       "    <tr>\n",
       "      <th>3</th>\n",
       "      <td>0.015310</td>\n",
       "      <td>0.417871</td>\n",
       "      <td>node</td>\n",
       "    </tr>\n",
       "    <tr>\n",
       "      <th>4</th>\n",
       "      <td>0.322106</td>\n",
       "      <td>0.068197</td>\n",
       "      <td>node</td>\n",
       "    </tr>\n",
       "    <tr>\n",
       "      <th>5</th>\n",
       "      <td>0.743769</td>\n",
       "      <td>0.418242</td>\n",
       "      <td>node</td>\n",
       "    </tr>\n",
       "    <tr>\n",
       "      <th>6</th>\n",
       "      <td>0.695765</td>\n",
       "      <td>0.375767</td>\n",
       "      <td>node</td>\n",
       "    </tr>\n",
       "    <tr>\n",
       "      <th>7</th>\n",
       "      <td>0.079072</td>\n",
       "      <td>0.261432</td>\n",
       "      <td>node</td>\n",
       "    </tr>\n",
       "    <tr>\n",
       "      <th>8</th>\n",
       "      <td>0.710454</td>\n",
       "      <td>0.128864</td>\n",
       "      <td>node</td>\n",
       "    </tr>\n",
       "    <tr>\n",
       "      <th>9</th>\n",
       "      <td>0.050575</td>\n",
       "      <td>0.570597</td>\n",
       "      <td>node</td>\n",
       "    </tr>\n",
       "    <tr>\n",
       "      <th>10</th>\n",
       "      <td>0.186020</td>\n",
       "      <td>0.114308</td>\n",
       "      <td>depot</td>\n",
       "    </tr>\n",
       "  </tbody>\n",
       "</table>\n",
       "</div>"
      ],
      "text/plain": [
       "           x         y   type\n",
       "0   0.633278  0.039127   node\n",
       "1   0.075522  0.949766   node\n",
       "2   0.558372  0.256420   node\n",
       "3   0.015310  0.417871   node\n",
       "4   0.322106  0.068197   node\n",
       "5   0.743769  0.418242   node\n",
       "6   0.695765  0.375767   node\n",
       "7   0.079072  0.261432   node\n",
       "8   0.710454  0.128864   node\n",
       "9   0.050575  0.570597   node\n",
       "10  0.186020  0.114308  depot"
      ]
     },
     "execution_count": 16,
     "metadata": {},
     "output_type": "execute_result"
    }
   ],
   "source": [
    "# All of this code re-creates the above table but adds the labels for plotting initial problem\n",
    "\n",
    "gen_data = test_data\n",
    "sample   = testing_sample\n",
    "__type   = 1 # 1: space nodes, 0: depot node\n",
    "# Collect all other nodes\n",
    "graph    = pd.DataFrame(gen_data[__type][sample], columns=['x', 'y'])\n",
    "# Collect depot node\n",
    "depot = {\n",
    "    'x': gen_data[0][sample][0], \n",
    "    'y': gen_data[0][sample][1], \n",
    "    'type': 'depot'\n",
    "}\n",
    "\n",
    "graph = graph.assign(type='node').append(depot, ignore_index=True)\n",
    "\n",
    "graph"
   ]
  },
  {
   "cell_type": "code",
   "execution_count": 17,
   "id": "1bd03a3d",
   "metadata": {},
   "outputs": [
    {
     "data": {
      "image/png": "[encoded data removed]",
      "text/plain": [
       "<Figure size 576x576 with 1 Axes>"
      ]
     },
     "metadata": {},
     "output_type": "display_data"
    }
   ],
   "source": [
    "plt.figure(figsize=(8, 8))\n",
    "sns.scatterplot(data=graph, x='x', y='y', hue='type', style='type')\n",
    "plt.show()"
   ]
  },
  {
   "cell_type": "code",
   "execution_count": 18,
   "id": "ba41e94e",
   "metadata": {},
   "outputs": [
    {
     "name": "stderr",
     "output_type": "stream",
     "text": [
      "/tmp/ipykernel_45681/670386366.py:14: RuntimeWarning: invalid value encountered in divide\n",
      "  plt.quiver(pos_x, pos_y, u/norm, v/norm, angles=\"xy\", zorder=0, pivot=\"tip\", color='tab:blue')\n"
     ]
    },
    {
     "data": {
      "image/png": "[encoded data removed]",
      "text/plain": [
       "<Figure size 576x576 with 1 Axes>"
      ]
     },
     "metadata": {},
     "output_type": "display_data"
    }
   ],
   "source": [
    "plt.figure(figsize=(8, 8))\n",
    "\n",
    "x = path['x'].values\n",
    "y = path['y'].values\n",
    "u = np.diff(x)\n",
    "v = np.diff(y)\n",
    "pos_x = x[:-1] + u/1\n",
    "pos_y = y[:-1] + v/1\n",
    "norm = np.sqrt(u**2+v**2)\n",
    "\n",
    "#plt.scatter(path[0], path[1], zorder=1)\n",
    "sns.scatterplot(data=graph, x='x', y='y', hue='type', style='type')\n",
    "plt.plot(path['x'], path['y'], zorder=2)\n",
    "plt.quiver(pos_x, pos_y, u/norm, v/norm, angles=\"xy\", zorder=0, pivot=\"tip\", color='tab:blue')\n",
    "plt.title(f'Vehicle Routing Problem; Cost: {cost:.3f}')\n",
    "plt.show()"
   ]
  },
  {
   "cell_type": "code",
   "execution_count": null,
   "id": "3d457347",
   "metadata": {},
   "outputs": [],
   "source": []
  }
 ],
 "metadata": {
  "kernelspec": {
   "display_name": "Python 3 (Spyder)",
   "language": "python3",
   "name": "python3"
  },
  "language_info": {
   "codemirror_mode": {
    "name": "ipython",
    "version": 3
   },
   "file_extension": ".py",
   "mimetype": "text/x-python",
   "name": "python",
   "nbconvert_exporter": "python",
   "pygments_lexer": "ipython3",
   "version": "3.9.15"
  }
 },
 "nbformat": 4,
 "nbformat_minor": 5
}
