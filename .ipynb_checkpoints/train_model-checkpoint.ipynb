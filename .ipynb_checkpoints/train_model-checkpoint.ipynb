{
 "cells": [
  {
   "cell_type": "code",
   "execution_count": 1,
   "metadata": {
    "scrolled": true
   },
   "outputs": [
    {
     "name": "stdout",
     "output_type": "stream",
     "text": [
      "2022-08-17 10:24:32 model initialized\n",
      "2022-08-17 10:24:37 validation dataset created and saved on the disk\n",
      "Evaluating baseline model on baseline dataset (epoch = 0)\n"
     ]
    },
    {
     "name": "stderr",
     "output_type": "stream",
     "text": [
      "Rollout greedy execution: 100%|██████████| 10/10 [00:40<00:00,  4.02s/it]\n"
     ]
    },
    {
     "name": "stdout",
     "output_type": "stream",
     "text": [
      "2022-08-17 10:25:24 baseline initialized\n",
      "Current decode type: sampling\n"
     ]
    },
    {
     "name": "stderr",
     "output_type": "stream",
     "text": [
      "batch calculation at epoch 0: 1it [00:02,  2.28s/it]"
     ]
    },
    {
     "name": "stdout",
     "output_type": "stream",
     "text": [
      "grad_global_norm = 12.116758346557617, clipped_norm = 1.0\n",
      "Epoch 0 (batch = 0): Loss: -1.4132919311523438: Cost: 30.186077117919922\n"
     ]
    },
    {
     "name": "stderr",
     "output_type": "stream",
     "text": [
      "batch calculation at epoch 0: 4it [00:08,  2.10s/it]\n"
     ]
    },
    {
     "name": "stdout",
     "output_type": "stream",
     "text": [
      "Evaluating candidate model on baseline dataset (callback epoch = 0)\n"
     ]
    },
    {
     "name": "stderr",
     "output_type": "stream",
     "text": [
      "Rollout greedy execution: 100%|██████████| 10/10 [00:21<00:00,  2.12s/it]\n"
     ]
    },
    {
     "name": "stdout",
     "output_type": "stream",
     "text": [
      "Epoch 0 candidate mean 21.605154037475586, baseline epoch 0 mean 29.48886489868164, difference -7.883710861206055\n",
      "p-value: 0.0\n",
      "Update baseline\n",
      "Evaluating baseline model on baseline dataset (epoch = 0)\n"
     ]
    },
    {
     "name": "stderr",
     "output_type": "stream",
     "text": [
      "Rollout greedy execution: 100%|██████████| 10/10 [00:21<00:00,  2.14s/it]\n"
     ]
    },
    {
     "name": "stdout",
     "output_type": "stream",
     "text": [
      "alpha was updated to 1.0\n"
     ]
    },
    {
     "name": "stderr",
     "output_type": "stream",
     "text": [
      "Rollout greedy execution: 100%|██████████| 10/10 [00:20<00:00,  2.09s/it]\n"
     ]
    },
    {
     "name": "stdout",
     "output_type": "stream",
     "text": [
      "Validation score: 21.64109992980957\n",
      "2022-08-17 10:26:42 Epoch 0: Loss: 26.017810821533203: Cost: 29.92403793334961\n"
     ]
    },
    {
     "name": "stderr",
     "output_type": "stream",
     "text": [
      "Rollout greedy execution: 100%|██████████| 1/1 [00:01<00:00,  1.29s/it]\n"
     ]
    },
    {
     "name": "stdout",
     "output_type": "stream",
     "text": [
      "Current decode type: sampling\n"
     ]
    },
    {
     "name": "stderr",
     "output_type": "stream",
     "text": [
      "batch calculation at epoch 1: 1it [00:01,  1.96s/it]"
     ]
    },
    {
     "name": "stdout",
     "output_type": "stream",
     "text": [
      "grad_global_norm = 19.5571231842041, clipped_norm = 1.0\n",
      "Epoch 1 (batch = 0): Loss: -1083.2918701171875: Cost: 29.194869995117188\n"
     ]
    },
    {
     "name": "stderr",
     "output_type": "stream",
     "text": [
      "batch calculation at epoch 1: 4it [00:08,  2.04s/it]\n"
     ]
    },
    {
     "name": "stdout",
     "output_type": "stream",
     "text": [
      "Evaluating candidate model on baseline dataset (callback epoch = 1)\n"
     ]
    },
    {
     "name": "stderr",
     "output_type": "stream",
     "text": [
      "Rollout greedy execution: 100%|██████████| 10/10 [00:25<00:00,  2.56s/it]\n"
     ]
    },
    {
     "name": "stdout",
     "output_type": "stream",
     "text": [
      "Epoch 1 candidate mean 22.009735107421875, baseline epoch 1 mean 21.635141372680664, difference 0.37459373474121094\n"
     ]
    },
    {
     "name": "stderr",
     "output_type": "stream",
     "text": [
      "Rollout greedy execution: 100%|██████████| 10/10 [00:24<00:00,  2.49s/it]\n"
     ]
    },
    {
     "name": "stdout",
     "output_type": "stream",
     "text": [
      "Validation score: 22.029600143432617\n",
      "2022-08-17 10:27:42 Epoch 1: Loss: -1027.3939208984375: Cost: 28.936302185058594\n"
     ]
    },
    {
     "name": "stderr",
     "output_type": "stream",
     "text": [
      "Rollout greedy execution: 100%|██████████| 1/1 [00:01<00:00,  1.60s/it]\n"
     ]
    },
    {
     "name": "stdout",
     "output_type": "stream",
     "text": [
      "Current decode type: sampling\n"
     ]
    },
    {
     "name": "stderr",
     "output_type": "stream",
     "text": [
      "batch calculation at epoch 2: 1it [00:02,  2.19s/it]"
     ]
    },
    {
     "name": "stdout",
     "output_type": "stream",
     "text": [
      "grad_global_norm = 26.253650665283203, clipped_norm = 1.0000001192092896\n",
      "Epoch 2 (batch = 0): Loss: -957.34521484375: Cost: 28.895313262939453\n"
     ]
    },
    {
     "name": "stderr",
     "output_type": "stream",
     "text": [
      "batch calculation at epoch 2: 4it [00:08,  2.15s/it]\n"
     ]
    },
    {
     "name": "stdout",
     "output_type": "stream",
     "text": [
      "Evaluating candidate model on baseline dataset (callback epoch = 2)\n"
     ]
    },
    {
     "name": "stderr",
     "output_type": "stream",
     "text": [
      "Rollout greedy execution: 100%|██████████| 10/10 [00:28<00:00,  2.80s/it]\n"
     ]
    },
    {
     "name": "stdout",
     "output_type": "stream",
     "text": [
      "Epoch 2 candidate mean 22.2225341796875, baseline epoch 2 mean 21.635141372680664, difference 0.5873928070068359\n"
     ]
    },
    {
     "name": "stderr",
     "output_type": "stream",
     "text": [
      "Rollout greedy execution: 100%|██████████| 10/10 [00:27<00:00,  2.71s/it]\n"
     ]
    },
    {
     "name": "stdout",
     "output_type": "stream",
     "text": [
      "Validation score: 22.15679931640625\n",
      "2022-08-17 10:28:47 Epoch 2: Loss: -889.1326904296875: Cost: 28.241500854492188\n"
     ]
    },
    {
     "name": "stderr",
     "output_type": "stream",
     "text": [
      "Rollout greedy execution: 100%|██████████| 1/1 [00:01<00:00,  1.54s/it]\n"
     ]
    },
    {
     "name": "stdout",
     "output_type": "stream",
     "text": [
      "Current decode type: sampling\n"
     ]
    },
    {
     "name": "stderr",
     "output_type": "stream",
     "text": [
      "batch calculation at epoch 3: 1it [00:02,  2.10s/it]"
     ]
    },
    {
     "name": "stdout",
     "output_type": "stream",
     "text": [
      "grad_global_norm = 27.126020431518555, clipped_norm = 1.0000001192092896\n",
      "Epoch 3 (batch = 0): Loss: -798.0156860351562: Cost: 27.53940200805664\n"
     ]
    },
    {
     "name": "stderr",
     "output_type": "stream",
     "text": [
      "batch calculation at epoch 3: 4it [00:08,  2.00s/it]\n"
     ]
    },
    {
     "name": "stdout",
     "output_type": "stream",
     "text": [
      "Evaluating candidate model on baseline dataset (callback epoch = 3)\n"
     ]
    },
    {
     "name": "stderr",
     "output_type": "stream",
     "text": [
      "Rollout greedy execution: 100%|██████████| 10/10 [00:25<00:00,  2.54s/it]\n"
     ]
    },
    {
     "name": "stdout",
     "output_type": "stream",
     "text": [
      "Epoch 3 candidate mean 21.951677322387695, baseline epoch 3 mean 21.635141372680664, difference 0.31653594970703125\n"
     ]
    },
    {
     "name": "stderr",
     "output_type": "stream",
     "text": [
      "Rollout greedy execution: 100%|██████████| 10/10 [00:24<00:00,  2.49s/it]\n"
     ]
    },
    {
     "name": "stdout",
     "output_type": "stream",
     "text": [
      "Validation score: 21.94499969482422\n",
      "2022-08-17 10:29:48 Epoch 3: Loss: -759.795166015625: Cost: 27.632030487060547\n"
     ]
    },
    {
     "name": "stderr",
     "output_type": "stream",
     "text": [
      "Rollout greedy execution: 100%|██████████| 1/1 [00:01<00:00,  1.43s/it]\n"
     ]
    },
    {
     "name": "stdout",
     "output_type": "stream",
     "text": [
      "Current decode type: sampling\n"
     ]
    },
    {
     "name": "stderr",
     "output_type": "stream",
     "text": [
      "batch calculation at epoch 4: 1it [00:01,  1.99s/it]"
     ]
    },
    {
     "name": "stdout",
     "output_type": "stream",
     "text": [
      "grad_global_norm = 18.86473846435547, clipped_norm = 1.0000001192092896\n",
      "Epoch 4 (batch = 0): Loss: -663.894287109375: Cost: 26.997344970703125\n"
     ]
    },
    {
     "name": "stderr",
     "output_type": "stream",
     "text": [
      "batch calculation at epoch 4: 4it [00:08,  2.05s/it]\n"
     ]
    },
    {
     "name": "stdout",
     "output_type": "stream",
     "text": [
      "Evaluating candidate model on baseline dataset (callback epoch = 4)\n"
     ]
    },
    {
     "name": "stderr",
     "output_type": "stream",
     "text": [
      "Rollout greedy execution: 100%|██████████| 10/10 [00:23<00:00,  2.37s/it]\n"
     ]
    },
    {
     "name": "stdout",
     "output_type": "stream",
     "text": [
      "Epoch 4 candidate mean 21.867538452148438, baseline epoch 4 mean 21.635141372680664, difference 0.23239707946777344\n"
     ]
    },
    {
     "name": "stderr",
     "output_type": "stream",
     "text": [
      "Rollout greedy execution: 100%|██████████| 10/10 [00:22<00:00,  2.30s/it]\n"
     ]
    },
    {
     "name": "stdout",
     "output_type": "stream",
     "text": [
      "Validation score: 21.885000228881836\n",
      "2022-08-17 10:30:44 Epoch 4: Loss: -590.080322265625: Cost: 26.58066177368164\n"
     ]
    },
    {
     "data": {
      "image/png": "[encoded data removed]",
      "text/plain": [
       "<Figure size 1080x648 with 2 Axes>"
      ]
     },
     "metadata": {
      "needs_background": "light"
     },
     "output_type": "display_data"
    }
   ],
   "source": [
    "import tensorflow as tf\n",
    "from time import gmtime, strftime\n",
    "\n",
    "from attention_dynamic_model import AttentionDynamicModel, set_decode_type\n",
    "from reinforce_baseline import RolloutBaseline\n",
    "from train import train_model\n",
    "\n",
    "from utils import create_data_on_disk, get_cur_time\n",
    "\n",
    "# Params of model\n",
    "SAMPLES = 512 # 128*10000\n",
    "BATCH = 128\n",
    "START_EPOCH = 0\n",
    "END_EPOCH = 5\n",
    "FROM_CHECKPOINT = False\n",
    "embedding_dim = 128\n",
    "LEARNING_RATE = 0.0001\n",
    "ROLLOUT_SAMPLES = 10000\n",
    "NUMBER_OF_WP_EPOCHS = 1 #Warm up Epochs for Baseline\n",
    "GRAD_NORM_CLIPPING = 1.0 #Clip gradients (avoid grad explosion)\n",
    "BATCH_VERBOSE = 1000\n",
    "VAL_BATCH_SIZE = 1000\n",
    "VALIDATE_SET_SIZE = 10000\n",
    "SEED = 1234\n",
    "GRAPH_SIZE = 50\n",
    "FILENAME = 'VRP_{}_{}'.format(GRAPH_SIZE, strftime(\"%Y-%m-%d\", gmtime()))\n",
    "\n",
    "# Initialize model\n",
    "model_tf = AttentionDynamicModel(embedding_dim)\n",
    "set_decode_type(model_tf, \"sampling\")\n",
    "print(get_cur_time(), 'model initialized')\n",
    "\n",
    "# Create and save validation dataset\n",
    "validation_dataset = create_data_on_disk(GRAPH_SIZE,\n",
    "                                         VALIDATE_SET_SIZE,\n",
    "                                         is_save=True,\n",
    "                                         filename=FILENAME,\n",
    "                                         is_return=True,\n",
    "                                         seed = SEED)\n",
    "print(get_cur_time(), 'validation dataset created and saved on the disk')\n",
    "\n",
    "# Initialize optimizer\n",
    "optimizer = tf.keras.optimizers.Adam(LEARNING_RATE)\n",
    "\n",
    "# Initialize baseline\n",
    "baseline = RolloutBaseline(model_tf,\n",
    "                           wp_n_epochs = NUMBER_OF_WP_EPOCHS,\n",
    "                           epoch = 0,\n",
    "                           num_samples=ROLLOUT_SAMPLES,\n",
    "                           filename = FILENAME,\n",
    "                           from_checkpoint = FROM_CHECKPOINT,\n",
    "                           embedding_dim=embedding_dim,\n",
    "                           graph_size=GRAPH_SIZE\n",
    "                           )\n",
    "print(get_cur_time(), 'baseline initialized')\n",
    "\n",
    "train_model(optimizer,\n",
    "            model_tf,\n",
    "            baseline,\n",
    "            validation_dataset,\n",
    "            samples = SAMPLES,\n",
    "            batch = BATCH,\n",
    "            val_batch_size = VAL_BATCH_SIZE,\n",
    "            start_epoch = START_EPOCH,\n",
    "            end_epoch = END_EPOCH,\n",
    "            from_checkpoint = FROM_CHECKPOINT,\n",
    "            grad_norm_clipping = GRAD_NORM_CLIPPING,\n",
    "            batch_verbose = BATCH_VERBOSE,\n",
    "            graph_size = GRAPH_SIZE,\n",
    "            filename = FILENAME\n",
    "            )"
   ]
  },
  {
   "cell_type": "markdown",
   "metadata": {},
   "source": [
    "# Analysis of Problem Generator\n",
    "\n",
    "This part of the notebook is dedicated at looking at the results of the problem generator (VRP graph/depot generator)"
   ]
  },
  {
   "cell_type": "code",
   "execution_count": 13,
   "metadata": {},
   "outputs": [],
   "source": [
    "import pandas as pd\n",
    "import seaborn as sns"
   ]
  },
  {
   "cell_type": "code",
   "execution_count": 53,
   "metadata": {},
   "outputs": [],
   "source": [
    "a = next(validation_dataset.batch(6_000).as_numpy_iterator())\n",
    "sample = 1\n",
    "graph = pd.DataFrame(a[1][sample])\n",
    "# 0: depot, 1: graph, 2: Costs"
   ]
  },
  {
   "cell_type": "code",
   "execution_count": 55,
   "metadata": {
    "scrolled": true
   },
   "outputs": [],
   "source": [
    "goal = {\n",
    "    0: a[0][sample][0], \n",
    "    1: a[0][sample][1], \n",
    "    'type': 'depot'\n",
    "}\n",
    "\n",
    "graph = graph.assign(type='node').append(goal, ignore_index=True)"
   ]
  },
  {
   "cell_type": "code",
   "execution_count": 56,
   "metadata": {
    "scrolled": true
   },
   "outputs": [
    {
     "data": {
      "text/html": [
       "<div>\n",
       "<style scoped>\n",
       "    .dataframe tbody tr th:only-of-type {\n",
       "        vertical-align: middle;\n",
       "    }\n",
       "\n",
       "    .dataframe tbody tr th {\n",
       "        vertical-align: top;\n",
       "    }\n",
       "\n",
       "    .dataframe thead th {\n",
       "        text-align: right;\n",
       "    }\n",
       "</style>\n",
       "<table border=\"1\" class=\"dataframe\">\n",
       "  <thead>\n",
       "    <tr style=\"text-align: right;\">\n",
       "      <th></th>\n",
       "      <th>0</th>\n",
       "      <th>1</th>\n",
       "      <th>type</th>\n",
       "    </tr>\n",
       "  </thead>\n",
       "  <tbody>\n",
       "    <tr>\n",
       "      <th>0</th>\n",
       "      <td>0.927222</td>\n",
       "      <td>0.521095</td>\n",
       "      <td>node</td>\n",
       "    </tr>\n",
       "    <tr>\n",
       "      <th>1</th>\n",
       "      <td>0.008043</td>\n",
       "      <td>0.854267</td>\n",
       "      <td>node</td>\n",
       "    </tr>\n",
       "    <tr>\n",
       "      <th>2</th>\n",
       "      <td>0.040587</td>\n",
       "      <td>0.648338</td>\n",
       "      <td>node</td>\n",
       "    </tr>\n",
       "    <tr>\n",
       "      <th>3</th>\n",
       "      <td>0.784624</td>\n",
       "      <td>0.120782</td>\n",
       "      <td>node</td>\n",
       "    </tr>\n",
       "    <tr>\n",
       "      <th>4</th>\n",
       "      <td>0.617521</td>\n",
       "      <td>0.770231</td>\n",
       "      <td>node</td>\n",
       "    </tr>\n",
       "    <tr>\n",
       "      <th>5</th>\n",
       "      <td>0.869890</td>\n",
       "      <td>0.828260</td>\n",
       "      <td>node</td>\n",
       "    </tr>\n",
       "    <tr>\n",
       "      <th>6</th>\n",
       "      <td>0.778686</td>\n",
       "      <td>0.282141</td>\n",
       "      <td>node</td>\n",
       "    </tr>\n",
       "    <tr>\n",
       "      <th>7</th>\n",
       "      <td>0.897975</td>\n",
       "      <td>0.542376</td>\n",
       "      <td>node</td>\n",
       "    </tr>\n",
       "    <tr>\n",
       "      <th>8</th>\n",
       "      <td>0.675648</td>\n",
       "      <td>0.139198</td>\n",
       "      <td>node</td>\n",
       "    </tr>\n",
       "    <tr>\n",
       "      <th>9</th>\n",
       "      <td>0.553818</td>\n",
       "      <td>0.160471</td>\n",
       "      <td>node</td>\n",
       "    </tr>\n",
       "    <tr>\n",
       "      <th>10</th>\n",
       "      <td>0.297303</td>\n",
       "      <td>0.135024</td>\n",
       "      <td>node</td>\n",
       "    </tr>\n",
       "    <tr>\n",
       "      <th>11</th>\n",
       "      <td>0.859762</td>\n",
       "      <td>0.435222</td>\n",
       "      <td>node</td>\n",
       "    </tr>\n",
       "    <tr>\n",
       "      <th>12</th>\n",
       "      <td>0.837175</td>\n",
       "      <td>0.810022</td>\n",
       "      <td>node</td>\n",
       "    </tr>\n",
       "    <tr>\n",
       "      <th>13</th>\n",
       "      <td>0.853445</td>\n",
       "      <td>0.702252</td>\n",
       "      <td>node</td>\n",
       "    </tr>\n",
       "    <tr>\n",
       "      <th>14</th>\n",
       "      <td>0.517938</td>\n",
       "      <td>0.601934</td>\n",
       "      <td>node</td>\n",
       "    </tr>\n",
       "    <tr>\n",
       "      <th>15</th>\n",
       "      <td>0.507846</td>\n",
       "      <td>0.064849</td>\n",
       "      <td>node</td>\n",
       "    </tr>\n",
       "    <tr>\n",
       "      <th>16</th>\n",
       "      <td>0.964194</td>\n",
       "      <td>0.545527</td>\n",
       "      <td>node</td>\n",
       "    </tr>\n",
       "    <tr>\n",
       "      <th>17</th>\n",
       "      <td>0.341582</td>\n",
       "      <td>0.021099</td>\n",
       "      <td>node</td>\n",
       "    </tr>\n",
       "    <tr>\n",
       "      <th>18</th>\n",
       "      <td>0.613221</td>\n",
       "      <td>0.149538</td>\n",
       "      <td>node</td>\n",
       "    </tr>\n",
       "    <tr>\n",
       "      <th>19</th>\n",
       "      <td>0.630443</td>\n",
       "      <td>0.155919</td>\n",
       "      <td>node</td>\n",
       "    </tr>\n",
       "    <tr>\n",
       "      <th>20</th>\n",
       "      <td>0.614260</td>\n",
       "      <td>0.446472</td>\n",
       "      <td>node</td>\n",
       "    </tr>\n",
       "    <tr>\n",
       "      <th>21</th>\n",
       "      <td>0.775734</td>\n",
       "      <td>0.274898</td>\n",
       "      <td>node</td>\n",
       "    </tr>\n",
       "    <tr>\n",
       "      <th>22</th>\n",
       "      <td>0.972193</td>\n",
       "      <td>0.087820</td>\n",
       "      <td>node</td>\n",
       "    </tr>\n",
       "    <tr>\n",
       "      <th>23</th>\n",
       "      <td>0.221599</td>\n",
       "      <td>0.052471</td>\n",
       "      <td>node</td>\n",
       "    </tr>\n",
       "    <tr>\n",
       "      <th>24</th>\n",
       "      <td>0.162827</td>\n",
       "      <td>0.628563</td>\n",
       "      <td>node</td>\n",
       "    </tr>\n",
       "    <tr>\n",
       "      <th>25</th>\n",
       "      <td>0.385884</td>\n",
       "      <td>0.290631</td>\n",
       "      <td>node</td>\n",
       "    </tr>\n",
       "    <tr>\n",
       "      <th>26</th>\n",
       "      <td>0.667946</td>\n",
       "      <td>0.696828</td>\n",
       "      <td>node</td>\n",
       "    </tr>\n",
       "    <tr>\n",
       "      <th>27</th>\n",
       "      <td>0.129173</td>\n",
       "      <td>0.348490</td>\n",
       "      <td>node</td>\n",
       "    </tr>\n",
       "    <tr>\n",
       "      <th>28</th>\n",
       "      <td>0.386017</td>\n",
       "      <td>0.259413</td>\n",
       "      <td>node</td>\n",
       "    </tr>\n",
       "    <tr>\n",
       "      <th>29</th>\n",
       "      <td>0.209845</td>\n",
       "      <td>0.879716</td>\n",
       "      <td>node</td>\n",
       "    </tr>\n",
       "    <tr>\n",
       "      <th>30</th>\n",
       "      <td>0.923766</td>\n",
       "      <td>0.535786</td>\n",
       "      <td>node</td>\n",
       "    </tr>\n",
       "    <tr>\n",
       "      <th>31</th>\n",
       "      <td>0.057855</td>\n",
       "      <td>0.373759</td>\n",
       "      <td>node</td>\n",
       "    </tr>\n",
       "    <tr>\n",
       "      <th>32</th>\n",
       "      <td>0.500739</td>\n",
       "      <td>0.001078</td>\n",
       "      <td>node</td>\n",
       "    </tr>\n",
       "    <tr>\n",
       "      <th>33</th>\n",
       "      <td>0.394506</td>\n",
       "      <td>0.575703</td>\n",
       "      <td>node</td>\n",
       "    </tr>\n",
       "    <tr>\n",
       "      <th>34</th>\n",
       "      <td>0.850474</td>\n",
       "      <td>0.665539</td>\n",
       "      <td>node</td>\n",
       "    </tr>\n",
       "    <tr>\n",
       "      <th>35</th>\n",
       "      <td>0.882370</td>\n",
       "      <td>0.334507</td>\n",
       "      <td>node</td>\n",
       "    </tr>\n",
       "    <tr>\n",
       "      <th>36</th>\n",
       "      <td>0.844529</td>\n",
       "      <td>0.272849</td>\n",
       "      <td>node</td>\n",
       "    </tr>\n",
       "    <tr>\n",
       "      <th>37</th>\n",
       "      <td>0.832664</td>\n",
       "      <td>0.727910</td>\n",
       "      <td>node</td>\n",
       "    </tr>\n",
       "    <tr>\n",
       "      <th>38</th>\n",
       "      <td>0.667577</td>\n",
       "      <td>0.835052</td>\n",
       "      <td>node</td>\n",
       "    </tr>\n",
       "    <tr>\n",
       "      <th>39</th>\n",
       "      <td>0.772318</td>\n",
       "      <td>0.235409</td>\n",
       "      <td>node</td>\n",
       "    </tr>\n",
       "    <tr>\n",
       "      <th>40</th>\n",
       "      <td>0.167964</td>\n",
       "      <td>0.059452</td>\n",
       "      <td>node</td>\n",
       "    </tr>\n",
       "    <tr>\n",
       "      <th>41</th>\n",
       "      <td>0.583232</td>\n",
       "      <td>0.307646</td>\n",
       "      <td>node</td>\n",
       "    </tr>\n",
       "    <tr>\n",
       "      <th>42</th>\n",
       "      <td>0.797599</td>\n",
       "      <td>0.136335</td>\n",
       "      <td>node</td>\n",
       "    </tr>\n",
       "    <tr>\n",
       "      <th>43</th>\n",
       "      <td>0.906293</td>\n",
       "      <td>0.246823</td>\n",
       "      <td>node</td>\n",
       "    </tr>\n",
       "    <tr>\n",
       "      <th>44</th>\n",
       "      <td>0.473974</td>\n",
       "      <td>0.251954</td>\n",
       "      <td>node</td>\n",
       "    </tr>\n",
       "    <tr>\n",
       "      <th>45</th>\n",
       "      <td>0.057225</td>\n",
       "      <td>0.517721</td>\n",
       "      <td>node</td>\n",
       "    </tr>\n",
       "    <tr>\n",
       "      <th>46</th>\n",
       "      <td>0.028667</td>\n",
       "      <td>0.041729</td>\n",
       "      <td>node</td>\n",
       "    </tr>\n",
       "    <tr>\n",
       "      <th>47</th>\n",
       "      <td>0.623873</td>\n",
       "      <td>0.951751</td>\n",
       "      <td>node</td>\n",
       "    </tr>\n",
       "    <tr>\n",
       "      <th>48</th>\n",
       "      <td>0.600778</td>\n",
       "      <td>0.746357</td>\n",
       "      <td>node</td>\n",
       "    </tr>\n",
       "    <tr>\n",
       "      <th>49</th>\n",
       "      <td>0.704862</td>\n",
       "      <td>0.001138</td>\n",
       "      <td>node</td>\n",
       "    </tr>\n",
       "    <tr>\n",
       "      <th>50</th>\n",
       "      <td>0.306700</td>\n",
       "      <td>0.069700</td>\n",
       "      <td>depot</td>\n",
       "    </tr>\n",
       "  </tbody>\n",
       "</table>\n",
       "</div>"
      ],
      "text/plain": [
       "           0         1   type\n",
       "0   0.927222  0.521095   node\n",
       "1   0.008043  0.854267   node\n",
       "2   0.040587  0.648338   node\n",
       "3   0.784624  0.120782   node\n",
       "4   0.617521  0.770231   node\n",
       "5   0.869890  0.828260   node\n",
       "6   0.778686  0.282141   node\n",
       "7   0.897975  0.542376   node\n",
       "8   0.675648  0.139198   node\n",
       "9   0.553818  0.160471   node\n",
       "10  0.297303  0.135024   node\n",
       "11  0.859762  0.435222   node\n",
       "12  0.837175  0.810022   node\n",
       "13  0.853445  0.702252   node\n",
       "14  0.517938  0.601934   node\n",
       "15  0.507846  0.064849   node\n",
       "16  0.964194  0.545527   node\n",
       "17  0.341582  0.021099   node\n",
       "18  0.613221  0.149538   node\n",
       "19  0.630443  0.155919   node\n",
       "20  0.614260  0.446472   node\n",
       "21  0.775734  0.274898   node\n",
       "22  0.972193  0.087820   node\n",
       "23  0.221599  0.052471   node\n",
       "24  0.162827  0.628563   node\n",
       "25  0.385884  0.290631   node\n",
       "26  0.667946  0.696828   node\n",
       "27  0.129173  0.348490   node\n",
       "28  0.386017  0.259413   node\n",
       "29  0.209845  0.879716   node\n",
       "30  0.923766  0.535786   node\n",
       "31  0.057855  0.373759   node\n",
       "32  0.500739  0.001078   node\n",
       "33  0.394506  0.575703   node\n",
       "34  0.850474  0.665539   node\n",
       "35  0.882370  0.334507   node\n",
       "36  0.844529  0.272849   node\n",
       "37  0.832664  0.727910   node\n",
       "38  0.667577  0.835052   node\n",
       "39  0.772318  0.235409   node\n",
       "40  0.167964  0.059452   node\n",
       "41  0.583232  0.307646   node\n",
       "42  0.797599  0.136335   node\n",
       "43  0.906293  0.246823   node\n",
       "44  0.473974  0.251954   node\n",
       "45  0.057225  0.517721   node\n",
       "46  0.028667  0.041729   node\n",
       "47  0.623873  0.951751   node\n",
       "48  0.600778  0.746357   node\n",
       "49  0.704862  0.001138   node\n",
       "50  0.306700  0.069700  depot"
      ]
     },
     "execution_count": 56,
     "metadata": {},
     "output_type": "execute_result"
    }
   ],
   "source": [
    "graph"
   ]
  },
  {
   "cell_type": "code",
   "execution_count": 58,
   "metadata": {},
   "outputs": [
    {
     "data": {
      "text/plain": [
       "<AxesSubplot:xlabel='0', ylabel='1'>"
      ]
     },
     "execution_count": 58,
     "metadata": {},
     "output_type": "execute_result"
    },
    {
     "data": {
      "image/png": "[encoded data removed]",
      "text/plain": [
       "<Figure size 432x288 with 1 Axes>"
      ]
     },
     "metadata": {
      "needs_background": "light"
     },
     "output_type": "display_data"
    }
   ],
   "source": [
    "sns.scatterplot(data=graph, x=0, y=1, hue='type', style='type')"
   ]
  },
  {
   "cell_type": "code",
   "execution_count": 1,
   "metadata": {
    "pycharm": {
     "name": "#%%\n"
    }
   },
   "outputs": [
    {
     "name": "stdout",
     "output_type": "stream",
     "text": [
      "2020-06-08 22:34:19 model loaded\n",
      "2020-06-08 22:34:37 validation dataset loaded\n",
      "Baseline model loaded\n",
      "Evaluating baseline model on baseline dataset (epoch = 5)\n",
      "2020-06-08 22:35:04 baseline initialized\n",
      "Skipping warm-up mode\n",
      "Current decode type: sampling\n",
      "grad_global_norm = 26.102819442749023, clipped_norm = 1.0\n",
      "Epoch 5 (batch = 0): Loss: -345.30181884765625: Cost: 25.446109771728516\n",
      "Evaluating candidate model on baseline dataset (callback epoch = 5)\n",
      "Epoch 5 candidate mean 21.632471084594727, baseline epoch 5 mean 21.833660125732422, difference -0.2011890411376953\n",
      "p-value: 9.040636112091681e-30\n",
      "Update baseline\n",
      "Evaluating baseline model on baseline dataset (epoch = 5)\n",
      "Validation score: 21.669300079345703\n",
      "2020-06-08 22:36:18 Epoch 5: Loss: -294.31036376953125: Cost: 24.854333877563477\n",
      "Current decode type: sampling\n",
      "grad_global_norm = 19.719280242919922, clipped_norm = 1.0\n",
      "Epoch 6 (batch = 0): Loss: -253.8420867919922: Cost: 23.864578247070312\n",
      "Evaluating candidate model on baseline dataset (callback epoch = 6)\n",
      "Epoch 6 candidate mean 21.627107620239258, baseline epoch 6 mean 21.662017822265625, difference -0.03491020202636719\n",
      "p-value: 0.007734731957820933\n",
      "Update baseline\n",
      "Evaluating baseline model on baseline dataset (epoch = 6)\n",
      "Validation score: 21.625900268554688\n",
      "2020-06-08 22:37:36 Epoch 6: Loss: -213.39727783203125: Cost: 23.7098388671875\n",
      "Current decode type: sampling\n",
      "grad_global_norm = 21.667922973632812, clipped_norm = 1.0\n",
      "Epoch 7 (batch = 0): Loss: -176.8393096923828: Cost: 23.654199600219727\n",
      "Evaluating candidate model on baseline dataset (callback epoch = 7)\n",
      "Epoch 7 candidate mean 21.46184730529785, baseline epoch 7 mean 21.60831069946289, difference -0.14646339416503906\n",
      "p-value: 3.219862101994777e-25\n",
      "Update baseline\n",
      "Evaluating baseline model on baseline dataset (epoch = 7)\n",
      "Validation score: 21.471399307250977\n",
      "2020-06-08 22:38:43 Epoch 7: Loss: -166.6892852783203: Cost: 23.435209274291992\n",
      "Current decode type: sampling\n",
      "grad_global_norm = 38.15165710449219, clipped_norm = 1.0\n",
      "Epoch 8 (batch = 0): Loss: -146.64822387695312: Cost: 23.07201385498047\n",
      "Evaluating candidate model on baseline dataset (callback epoch = 8)\n",
      "Epoch 8 candidate mean 21.49470329284668, baseline epoch 8 mean 21.518787384033203, difference -0.024084091186523438\n",
      "p-value: 0.07091138208224676\n",
      "Validation score: 21.430500030517578\n",
      "2020-06-08 22:39:24 Epoch 8: Loss: -134.47042846679688: Cost: 22.981409072875977\n",
      "Current decode type: sampling\n",
      "grad_global_norm = 24.69791603088379, clipped_norm = 1.0\n",
      "Epoch 9 (batch = 0): Loss: -138.46011352539062: Cost: 22.741230010986328\n",
      "Evaluating candidate model on baseline dataset (callback epoch = 9)\n",
      "Epoch 9 candidate mean 21.497108459472656, baseline epoch 9 mean 21.518787384033203, difference -0.021678924560546875\n",
      "p-value: 0.09359072511782458\n",
      "Validation score: 21.43269920349121\n",
      "2020-06-08 22:40:05 Epoch 9: Loss: -113.24168395996094: Cost: 22.698028564453125\n"
     ]
    },
    {
     "name": "stderr",
     "output_type": "stream",
     "text": [
      "Rollout greedy execution: 10it [00:23,  2.33s/it]\n",
      "Rollout greedy execution: 1it [00:01,  1.66s/it]\n",
      "batch calculation at epoch 5: 4it [00:08,  2.01s/it]\n",
      "Rollout greedy execution: 10it [00:19,  1.99s/it]\n",
      "Rollout greedy execution: 10it [00:20,  2.08s/it]\n",
      "Rollout greedy execution: 10it [00:20,  2.05s/it]\n",
      "Rollout greedy execution: 1it [00:01,  1.75s/it]\n",
      "batch calculation at epoch 6: 4it [00:08,  2.05s/it]\n",
      "Rollout greedy execution: 10it [00:20,  2.09s/it]\n",
      "Rollout greedy execution: 10it [00:21,  2.14s/it]\n",
      "Rollout greedy execution: 10it [00:21,  2.17s/it]\n",
      "Rollout greedy execution: 1it [00:01,  1.45s/it]\n",
      "batch calculation at epoch 7: 4it [00:07,  1.99s/it]\n",
      "Rollout greedy execution: 10it [00:18,  1.84s/it]\n",
      "Rollout greedy execution: 10it [00:18,  1.81s/it]\n",
      "Rollout greedy execution: 10it [00:18,  1.81s/it]\n",
      "Rollout greedy execution: 1it [00:01,  1.27s/it]\n",
      "batch calculation at epoch 8: 4it [00:06,  1.73s/it]\n",
      "Rollout greedy execution: 10it [00:16,  1.62s/it]\n",
      "Rollout greedy execution: 10it [00:16,  1.61s/it]\n",
      "Rollout greedy execution: 1it [00:01,  1.29s/it]\n",
      "batch calculation at epoch 9: 4it [00:06,  1.69s/it]\n",
      "Rollout greedy execution: 10it [00:16,  1.66s/it]\n",
      "Rollout greedy execution: 10it [00:15,  1.59s/it]\n"
     ]
    },
    {
     "data": {
      "image/png": "[encoded data removed]",
      "text/plain": [
       "<Figure size 1080x648 with 2 Axes>"
      ]
     },
     "metadata": {
      "needs_background": "light"
     },
     "output_type": "display_data"
    }
   ],
   "source": [
    "import tensorflow as tf\n",
    "from time import gmtime, strftime\n",
    "\n",
    "from attention_dynamic_model import set_decode_type\n",
    "from reinforce_baseline import RolloutBaseline\n",
    "from train import train_model\n",
    "\n",
    "from utils import get_cur_time\n",
    "from reinforce_baseline import load_tf_model\n",
    "from utils import read_from_pickle\n",
    "\n",
    "\n",
    "SAMPLES = 512 # 128*10000\n",
    "BATCH = 128\n",
    "LEARNING_RATE = 0.0001\n",
    "ROLLOUT_SAMPLES = 10000\n",
    "NUMBER_OF_WP_EPOCHS = 1\n",
    "GRAD_NORM_CLIPPING = 1.0\n",
    "BATCH_VERBOSE = 1000\n",
    "VAL_BATCH_SIZE = 1000\n",
    "VALIDATE_SET_SIZE = 10000\n",
    "SEED = 1234\n",
    "GRAPH_SIZE = 50\n",
    "FILENAME = 'VRP_{}_{}'.format(GRAPH_SIZE, strftime(\"%Y-%m-%d\", gmtime()))\n",
    "\n",
    "START_EPOCH = 5\n",
    "END_EPOCH = 10\n",
    "FROM_CHECKPOINT = True\n",
    "embedding_dim = 128\n",
    "MODEL_PATH = 'model_checkpoint_epoch_4_VRP_50_2020-06-08.h5'\n",
    "VAL_SET_PATH = 'Validation_dataset_VRP_50_2020-06-08.pkl'\n",
    "BASELINE_MODEL_PATH = 'baseline_checkpoint_epoch_0_VRP_50_2020-06-08.h5'\n",
    "\n",
    "# Initialize model\n",
    "model_tf = load_tf_model(MODEL_PATH,\n",
    "                         embedding_dim=embedding_dim,\n",
    "                         graph_size=GRAPH_SIZE)\n",
    "set_decode_type(model_tf, \"sampling\")\n",
    "print(get_cur_time(), 'model loaded')\n",
    "\n",
    "# Create and save validation dataset\n",
    "validation_dataset = read_from_pickle(VAL_SET_PATH)\n",
    "print(get_cur_time(), 'validation dataset loaded')\n",
    "\n",
    "# Initialize optimizer\n",
    "optimizer = tf.keras.optimizers.Adam(LEARNING_RATE)\n",
    "\n",
    "# Initialize baseline\n",
    "baseline = RolloutBaseline(model_tf,\n",
    "                           wp_n_epochs = NUMBER_OF_WP_EPOCHS,\n",
    "                           epoch = START_EPOCH,\n",
    "                           num_samples=ROLLOUT_SAMPLES,\n",
    "                           filename = FILENAME,\n",
    "                           from_checkpoint = FROM_CHECKPOINT,\n",
    "                           embedding_dim=embedding_dim,\n",
    "                           graph_size=GRAPH_SIZE,\n",
    "                           path_to_checkpoint = BASELINE_MODEL_PATH)\n",
    "print(get_cur_time(), 'baseline initialized')\n",
    "\n",
    "train_model(optimizer,\n",
    "            model_tf,\n",
    "            baseline,\n",
    "            validation_dataset,\n",
    "            samples = SAMPLES,\n",
    "            batch = BATCH,\n",
    "            val_batch_size = VAL_BATCH_SIZE,\n",
    "            start_epoch = START_EPOCH,\n",
    "            end_epoch = END_EPOCH,\n",
    "            from_checkpoint = FROM_CHECKPOINT,\n",
    "            grad_norm_clipping = GRAD_NORM_CLIPPING,\n",
    "            batch_verbose = BATCH_VERBOSE,\n",
    "            graph_size = GRAPH_SIZE,\n",
    "            filename = FILENAME\n",
    "            )"
   ]
  },
  {
   "cell_type": "code",
   "execution_count": null,
   "metadata": {
    "pycharm": {
     "name": "#%%\n"
    }
   },
   "outputs": [],
   "source": [
    "\n"
   ]
  }
 ],
 "metadata": {
  "kernelspec": {
   "display_name": "Python 3",
   "language": "python",
   "name": "python3"
  },
  "language_info": {
   "codemirror_mode": {
    "name": "ipython",
    "version": 3
   },
   "file_extension": ".py",
   "mimetype": "text/x-python",
   "name": "python",
   "nbconvert_exporter": "python",
   "pygments_lexer": "ipython3",
   "version": "3.8.13"
  }
 },
 "nbformat": 4,
 "nbformat_minor": 1
}
